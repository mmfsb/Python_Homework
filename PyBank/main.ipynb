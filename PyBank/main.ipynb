{
 "cells": [
  {
   "cell_type": "code",
   "execution_count": null,
   "id": "516b8064-db0d-49b6-bf41-9d8d0f438c29",
   "metadata": {},
   "outputs": [],
   "source": [
    "# Import the NumPy Financial Library\n",
    "import numpy_financial as npf\n",
    "\n",
    "# Import from the pathlib Library\n",
    "from pathlib import Path\n",
    "\n",
    "# Check the current directory\n",
    "print(Path.cwd())\n",
    "\n",
    "# Set the input file\n",
    "filepath = Path(\"Resources/budget_data.csv\")\n",
    "\n",
    "# Open the file in \"read\" mode and store the content in the variable \"text\"\n",
    "with open (filepath, 'r') as file:\n",
    "    text = file.read\n",
    "    print(text)\n",
    "    \n",
    "    line_num = 1\n",
    "    for line in file:\n",
    "        print({line_num}, {line})\n",
    "        line_num += 1"
   ]
  }
 ],
 "metadata": {
  "kernelspec": {
   "display_name": "Python 3.8 (FinTech)",
   "language": "python",
   "name": "fintech"
  },
  "language_info": {
   "codemirror_mode": {
    "name": "ipython",
    "version": 3
   },
   "file_extension": ".py",
   "mimetype": "text/x-python",
   "name": "python",
   "nbconvert_exporter": "python",
   "pygments_lexer": "ipython3",
   "version": "3.8.2"
  }
 },
 "nbformat": 4,
 "nbformat_minor": 5
}
