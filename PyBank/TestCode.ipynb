{
 "cells": [
  {
   "cell_type": "code",
   "execution_count": 1,
   "id": "06c1840e-425d-48d3-bb77-717f3d198d25",
   "metadata": {},
   "outputs": [],
   "source": [
    "# Import the NumPy Financial Library, pathlib and csv library\n",
    "import numpy_financial as npf\n",
    "from pathlib import Path\n",
    "import csv\n",
    "import pandas as pd"
   ]
  },
  {
   "cell_type": "code",
   "execution_count": 2,
   "id": "6e187780-abd6-48bf-88c2-cf3a5347043e",
   "metadata": {},
   "outputs": [
    {
     "name": "stdout",
     "output_type": "stream",
     "text": [
      "/Users/moniqueferguson/Desktop/Miami/FinTech/MiamiHomework/Python_Homework/PyBank\n"
     ]
    }
   ],
   "source": [
    "# Check the current directory\n",
    "print(Path.cwd())\n",
    "\n"
   ]
  },
  {
   "cell_type": "code",
   "execution_count": 3,
   "id": "62c0e3b5-cceb-47dc-ab66-ccbda04d0db5",
   "metadata": {},
   "outputs": [],
   "source": [
    "# Set the input file\n",
    "filepath = Path(\"Resources/budget_data.csv\")"
   ]
  },
  {
   "cell_type": "code",
   "execution_count": 4,
   "id": "adb88735-960f-473f-9e5f-0beb68bd2ff7",
   "metadata": {},
   "outputs": [
    {
     "data": {
      "text/html": [
       "<div>\n",
       "<style scoped>\n",
       "    .dataframe tbody tr th:only-of-type {\n",
       "        vertical-align: middle;\n",
       "    }\n",
       "\n",
       "    .dataframe tbody tr th {\n",
       "        vertical-align: top;\n",
       "    }\n",
       "\n",
       "    .dataframe thead th {\n",
       "        text-align: right;\n",
       "    }\n",
       "</style>\n",
       "<table border=\"1\" class=\"dataframe\">\n",
       "  <thead>\n",
       "    <tr style=\"text-align: right;\">\n",
       "      <th></th>\n",
       "      <th>Date</th>\n",
       "      <th>Profit/Losses</th>\n",
       "    </tr>\n",
       "  </thead>\n",
       "  <tbody>\n",
       "    <tr>\n",
       "      <th>0</th>\n",
       "      <td>Jan-2010</td>\n",
       "      <td>867884</td>\n",
       "    </tr>\n",
       "    <tr>\n",
       "      <th>1</th>\n",
       "      <td>Feb-2010</td>\n",
       "      <td>984655</td>\n",
       "    </tr>\n",
       "    <tr>\n",
       "      <th>2</th>\n",
       "      <td>Mar-2010</td>\n",
       "      <td>322013</td>\n",
       "    </tr>\n",
       "    <tr>\n",
       "      <th>3</th>\n",
       "      <td>Apr-2010</td>\n",
       "      <td>-69417</td>\n",
       "    </tr>\n",
       "    <tr>\n",
       "      <th>4</th>\n",
       "      <td>May-2010</td>\n",
       "      <td>310503</td>\n",
       "    </tr>\n",
       "  </tbody>\n",
       "</table>\n",
       "</div>"
      ],
      "text/plain": [
       "       Date  Profit/Losses\n",
       "0  Jan-2010         867884\n",
       "1  Feb-2010         984655\n",
       "2  Mar-2010         322013\n",
       "3  Apr-2010         -69417\n",
       "4  May-2010         310503"
      ]
     },
     "execution_count": 4,
     "metadata": {},
     "output_type": "execute_result"
    }
   ],
   "source": [
    "# Read the CSV into a DataFrame using Pandas\n",
    "pybank_df = pd.read_csv(filepath)\n",
    "pybank_df.head()"
   ]
  },
  {
   "cell_type": "code",
   "execution_count": 5,
   "id": "f8d3c983-22db-4921-b998-76f91946bfc5",
   "metadata": {},
   "outputs": [
    {
     "data": {
      "text/plain": [
       "Index(['Date', 'Profit/Losses'], dtype='object')"
      ]
     },
     "execution_count": 5,
     "metadata": {},
     "output_type": "execute_result"
    }
   ],
   "source": [
    "# Read Columns\n",
    "pybank_df.columns"
   ]
  },
  {
   "cell_type": "code",
   "execution_count": 6,
   "id": "072d3bf0-4bf8-4ef2-bcc5-d6700687f622",
   "metadata": {},
   "outputs": [
    {
     "data": {
      "text/plain": [
       "86"
      ]
     },
     "execution_count": 6,
     "metadata": {},
     "output_type": "execute_result"
    }
   ],
   "source": [
    "# Find the total number of months\n",
    "total_months = len(pybank_df)\n",
    "total_months"
   ]
  },
  {
   "cell_type": "code",
   "execution_count": 7,
   "id": "96001989-a5a9-4ae5-ac82-7c7f8ebd6537",
   "metadata": {},
   "outputs": [
    {
     "data": {
      "text/plain": [
       "38382578"
      ]
     },
     "execution_count": 7,
     "metadata": {},
     "output_type": "execute_result"
    }
   ],
   "source": [
    "# Find the sum of profits and losses\n",
    "total_profits_losses = pybank_df['Profit/Losses'].sum() \n",
    "total_profits_losses"
   ]
  },
  {
   "cell_type": "code",
   "execution_count": 12,
   "id": "f900be7c-43f7-489a-b631-ffcb1ebddc9c",
   "metadata": {},
   "outputs": [
    {
     "data": {
      "text/plain": [
       "446309.0465116279"
      ]
     },
     "execution_count": 12,
     "metadata": {},
     "output_type": "execute_result"
    }
   ],
   "source": [
    "# data['MA10'] = data['Close'].rolling(10).mean()\n",
    "MA_df = pybank_df['Profit/Losses'].mean()\n",
    "MA_df"
   ]
  },
  {
   "cell_type": "code",
   "execution_count": 15,
   "id": "611a3975-387f-42f6-bfc8-edf390dd1668",
   "metadata": {},
   "outputs": [
    {
     "data": {
      "text/plain": [
       "-2315.12"
      ]
     },
     "execution_count": 15,
     "metadata": {},
     "output_type": "execute_result"
    }
   ],
   "source": [
    "#initialize a list for average change\n",
    "average_change = []\n",
    "\n",
    "# Loop over every item to determine difference between each date\n",
    "for item in range(1,len(pybank_df)):\n",
    "    average_change.append(pybank_df['Profit/Losses'][item] - pybank_df['Profit/Losses'][item-1])\n",
    "\n",
    "# Calculate the average change of profits and losses\n",
    "average_profits_losses = round(sum(average_change)/len(average_change), 2)\n",
    "average_profits_losses"
   ]
  },
  {
   "cell_type": "code",
   "execution_count": null,
   "id": "258c8d03-c214-4ea4-827d-7dfd0fd2e42d",
   "metadata": {},
   "outputs": [],
   "source": []
  }
 ],
 "metadata": {
  "kernelspec": {
   "display_name": "Python 3.8 (FinTech)",
   "language": "python",
   "name": "fintech"
  },
  "language_info": {
   "codemirror_mode": {
    "name": "ipython",
    "version": 3
   },
   "file_extension": ".py",
   "mimetype": "text/x-python",
   "name": "python",
   "nbconvert_exporter": "python",
   "pygments_lexer": "ipython3",
   "version": "3.8.2"
  }
 },
 "nbformat": 4,
 "nbformat_minor": 5
}
