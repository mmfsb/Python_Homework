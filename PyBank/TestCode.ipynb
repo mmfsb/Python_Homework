{
 "cells": [
  {
   "cell_type": "code",
   "execution_count": 1,
   "id": "06c1840e-425d-48d3-bb77-717f3d198d25",
   "metadata": {},
   "outputs": [],
   "source": [
    "# Import the NumPy Financial Library, pathlib and csv library\n",
    "import numpy_financial as npf\n",
    "from pathlib import Path\n",
    "import csv\n",
    "import pandas as pd"
   ]
  },
  {
   "cell_type": "code",
   "execution_count": 2,
   "id": "6e187780-abd6-48bf-88c2-cf3a5347043e",
   "metadata": {},
   "outputs": [
    {
     "name": "stdout",
     "output_type": "stream",
     "text": [
      "/Users/moniqueferguson/Desktop/Miami/FinTech/MiamiHomework/Python_Homework/PyBank\n"
     ]
    }
   ],
   "source": [
    "# Check the current directory\n",
    "print(Path.cwd())\n",
    "\n"
   ]
  },
  {
   "cell_type": "code",
   "execution_count": 3,
   "id": "62c0e3b5-cceb-47dc-ab66-ccbda04d0db5",
   "metadata": {},
   "outputs": [],
   "source": [
    "# Set the input file\n",
    "filepath = Path(\"Resources/budget_data.csv\")"
   ]
  },
  {
   "cell_type": "code",
   "execution_count": null,
   "id": "adb88735-960f-473f-9e5f-0beb68bd2ff7",
   "metadata": {},
   "outputs": [],
   "source": [
    "# Read the CSV into a DataFrame using Pandas\n",
    "pybank_df = pd.read_csv(filepath)\n",
    "pybank_df.head()"
   ]
  },
  {
   "cell_type": "code",
   "execution_count": null,
   "id": "f8d3c983-22db-4921-b998-76f91946bfc5",
   "metadata": {},
   "outputs": [],
   "source": [
    "# Read Columns\n",
    "pybank_df.columns"
   ]
  },
  {
   "cell_type": "code",
   "execution_count": null,
   "id": "072d3bf0-4bf8-4ef2-bcc5-d6700687f622",
   "metadata": {},
   "outputs": [],
   "source": [
    "# Find the total number of months\n",
    "total_months = len(pybank_df)\n",
    "total_months"
   ]
  },
  {
   "cell_type": "code",
   "execution_count": null,
   "id": "96001989-a5a9-4ae5-ac82-7c7f8ebd6537",
   "metadata": {},
   "outputs": [],
   "source": [
    "# Find the sum of profits and losses\n",
    "total_profits_losses = pybank_df['Profit/Losses'].sum() \n",
    "total_profits_losses"
   ]
  }
 ],
 "metadata": {
  "kernelspec": {
   "display_name": "Python 3.8 (FinTech)",
   "language": "python",
   "name": "fintech"
  },
  "language_info": {
   "codemirror_mode": {
    "name": "ipython",
    "version": 3
   },
   "file_extension": ".py",
   "mimetype": "text/x-python",
   "name": "python",
   "nbconvert_exporter": "python",
   "pygments_lexer": "ipython3",
   "version": "3.8.2"
  }
 },
 "nbformat": 4,
 "nbformat_minor": 5
}
