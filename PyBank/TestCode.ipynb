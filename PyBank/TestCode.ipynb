{
 "cells": [
  {
   "cell_type": "code",
   "execution_count": 1,
   "id": "06c1840e-425d-48d3-bb77-717f3d198d25",
   "metadata": {},
   "outputs": [],
   "source": [
    "# Import the NumPy Financial Library\n",
    "import numpy_financial as npf\n",
    "\n"
   ]
  },
  {
   "cell_type": "code",
   "execution_count": 2,
   "id": "43f21ce4-f473-4e74-8592-89421ec31355",
   "metadata": {},
   "outputs": [],
   "source": [
    "# Import from the pathlib Library\n",
    "from pathlib import Path\n",
    "\n"
   ]
  },
  {
   "cell_type": "code",
   "execution_count": 3,
   "id": "6e187780-abd6-48bf-88c2-cf3a5347043e",
   "metadata": {},
   "outputs": [
    {
     "name": "stdout",
     "output_type": "stream",
     "text": [
      "/Users/moniqueferguson/Desktop/Miami/FinTech/MiamiHomework/Python_Homework/PyBank\n"
     ]
    }
   ],
   "source": [
    "# Check the current directory\n",
    "print(Path.cwd())\n",
    "\n"
   ]
  },
  {
   "cell_type": "code",
   "execution_count": 4,
   "id": "62c0e3b5-cceb-47dc-ab66-ccbda04d0db5",
   "metadata": {},
   "outputs": [],
   "source": [
    "# Set the input file\n",
    "filepath = Path(\"Resources/budget_data.csv\")"
   ]
  },
  {
   "cell_type": "code",
   "execution_count": 7,
   "id": "671439ab-f67f-45b7-a0c5-318ca46be014",
   "metadata": {},
   "outputs": [
    {
     "name": "stdout",
     "output_type": "stream",
     "text": [
      "<built-in method read of _io.TextIOWrapper object at 0x7fc30bc30790>\n",
      "{1} {'Date,Profit/Losses\\n'}\n",
      "{2} {'Jan-2010,867884\\n'}\n",
      "{3} {'Feb-2010,984655\\n'}\n",
      "{4} {'Mar-2010,322013\\n'}\n",
      "{5} {'Apr-2010,-69417\\n'}\n",
      "{6} {'May-2010,310503\\n'}\n",
      "{7} {'Jun-2010,522857\\n'}\n",
      "{8} {'Jul-2010,1033096\\n'}\n",
      "{9} {'Aug-2010,604885\\n'}\n",
      "{10} {'Sep-2010,-216386\\n'}\n",
      "{11} {'Oct-2010,477532\\n'}\n",
      "{12} {'Nov-2010,893810\\n'}\n",
      "{13} {'Dec-2010,-80353\\n'}\n",
      "{14} {'Jan-2011,779806\\n'}\n",
      "{15} {'Feb-2011,-335203\\n'}\n",
      "{16} {'Mar-2011,697845\\n'}\n",
      "{17} {'Apr-2011,793163\\n'}\n",
      "{18} {'May-2011,485070\\n'}\n",
      "{19} {'Jun-2011,584122\\n'}\n",
      "{20} {'Jul-2011,62729\\n'}\n",
      "{21} {'Aug-2011,668179\\n'}\n",
      "{22} {'Sep-2011,899906\\n'}\n",
      "{23} {'Oct-2011,834719\\n'}\n",
      "{24} {'Nov-2011,132003\\n'}\n",
      "{25} {'Dec-2011,309978\\n'}\n",
      "{26} {'Jan-2012,-755566\\n'}\n",
      "{27} {'Feb-2012,1170593\\n'}\n",
      "{28} {'Mar-2012,252788\\n'}\n",
      "{29} {'Apr-2012,1151518\\n'}\n",
      "{30} {'May-2012,817256\\n'}\n",
      "{31} {'Jun-2012,570757\\n'}\n",
      "{32} {'Jul-2012,506702\\n'}\n",
      "{33} {'Aug-2012,-1022534\\n'}\n",
      "{34} {'Sep-2012,475062\\n'}\n",
      "{35} {'Oct-2012,779976\\n'}\n",
      "{36} {'Nov-2012,144175\\n'}\n",
      "{37} {'Dec-2012,542494\\n'}\n",
      "{38} {'Jan-2013,359333\\n'}\n",
      "{39} {'Feb-2013,321469\\n'}\n",
      "{40} {'Mar-2013,67780\\n'}\n",
      "{41} {'Apr-2013,471435\\n'}\n",
      "{42} {'May-2013,565603\\n'}\n",
      "{43} {'Jun-2013,872480\\n'}\n",
      "{44} {'Jul-2013,789480\\n'}\n",
      "{45} {'Aug-2013,999942\\n'}\n",
      "{46} {'Sep-2013,-1196225\\n'}\n",
      "{47} {'Oct-2013,268997\\n'}\n",
      "{48} {'Nov-2013,-687986\\n'}\n",
      "{49} {'Dec-2013,1150461\\n'}\n",
      "{50} {'Jan-2014,682458\\n'}\n",
      "{51} {'Feb-2014,617856\\n'}\n",
      "{52} {'Mar-2014,824098\\n'}\n",
      "{53} {'Apr-2014,581943\\n'}\n",
      "{54} {'May-2014,132864\\n'}\n",
      "{55} {'Jun-2014,448062\\n'}\n",
      "{56} {'Jul-2014,689161\\n'}\n",
      "{57} {'Aug-2014,800701\\n'}\n",
      "{58} {'Sep-2014,1166643\\n'}\n",
      "{59} {'Oct-2014,947333\\n'}\n",
      "{60} {'Nov-2014,578668\\n'}\n",
      "{61} {'Dec-2014,988505\\n'}\n",
      "{62} {'Jan-2015,1139715\\n'}\n",
      "{63} {'Feb-2015,1029471\\n'}\n",
      "{64} {'Mar-2015,687533\\n'}\n",
      "{65} {'Apr-2015,-524626\\n'}\n",
      "{66} {'May-2015,158620\\n'}\n",
      "{67} {'Jun-2015,87795\\n'}\n",
      "{68} {'Jul-2015,423389\\n'}\n",
      "{69} {'Aug-2015,840723\\n'}\n",
      "{70} {'Sep-2015,568529\\n'}\n",
      "{71} {'Oct-2015,332067\\n'}\n",
      "{72} {'Nov-2015,989499\\n'}\n",
      "{73} {'Dec-2015,778237\\n'}\n",
      "{74} {'Jan-2016,650000\\n'}\n",
      "{75} {'Feb-2016,-1100387\\n'}\n",
      "{76} {'Mar-2016,-174946\\n'}\n",
      "{77} {'Apr-2016,757143\\n'}\n",
      "{78} {'May-2016,445709\\n'}\n",
      "{79} {'Jun-2016,712961\\n'}\n",
      "{80} {'Jul-2016,-1163797\\n'}\n",
      "{81} {'Aug-2016,569899\\n'}\n",
      "{82} {'Sep-2016,768450\\n'}\n",
      "{83} {'Oct-2016,102685\\n'}\n",
      "{84} {'Nov-2016,795914\\n'}\n",
      "{85} {'Dec-2016,60988\\n'}\n",
      "{86} {'Jan-2017,138230\\n'}\n",
      "{87} {'Feb-2017,671099\\n'}\n"
     ]
    }
   ],
   "source": [
    "# Open the file in \"read\" mode and store the content in the variable \"text\"\n",
    "with open (filepath, 'r') as file:\n",
    "    text = file.read\n",
    "    print(text)\n",
    "    \n",
    "    line_num = 1\n",
    "    for line in file:\n",
    "        print({line_num}, {line})\n",
    "        line_num += 1"
   ]
  },
  {
   "cell_type": "code",
   "execution_count": null,
   "id": "0561bc4d-5006-4749-bbe7-3c27d86ca8ad",
   "metadata": {},
   "outputs": [],
   "source": []
  }
 ],
 "metadata": {
  "kernelspec": {
   "display_name": "Python 3.8 (FinTech)",
   "language": "python",
   "name": "fintech"
  },
  "language_info": {
   "codemirror_mode": {
    "name": "ipython",
    "version": 3
   },
   "file_extension": ".py",
   "mimetype": "text/x-python",
   "name": "python",
   "nbconvert_exporter": "python",
   "pygments_lexer": "ipython3",
   "version": "3.8.2"
  }
 },
 "nbformat": 4,
 "nbformat_minor": 5
}
