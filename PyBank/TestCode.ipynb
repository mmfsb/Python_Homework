{
 "cells": [
  {
   "cell_type": "code",
   "execution_count": 2,
   "id": "9d305e26",
   "metadata": {},
   "outputs": [],
   "source": [
    "# Import the NumPy Financial Library, pathlib and csv library\n",
    "import numpy_financial as npf\n",
    "from pathlib import Path\n",
    "import csv\n",
    "import pandas as pd"
   ]
  },
  {
   "cell_type": "code",
   "execution_count": 3,
   "id": "88befb52",
   "metadata": {},
   "outputs": [
    {
     "name": "stdout",
     "output_type": "stream",
     "text": [
      "/Users/moniqueferguson/Desktop/Miami/FinTech/MiamiHomework/Python_Homework/PyBank\n"
     ]
    }
   ],
   "source": [
    "# Check the current directory\n",
    "print(Path.cwd())\n",
    "\n"
   ]
  },
  {
   "cell_type": "code",
   "execution_count": 4,
   "id": "7e8fa882",
   "metadata": {},
   "outputs": [],
   "source": [
    "# Set the input file\n",
    "filepath = Path(\"Resources/budget_data.csv\")"
   ]
  },
  {
   "cell_type": "code",
   "execution_count": 5,
   "id": "577ea23e",
   "metadata": {},
   "outputs": [
    {
     "data": {
      "text/html": [
       "<div>\n",
       "<style scoped>\n",
       "    .dataframe tbody tr th:only-of-type {\n",
       "        vertical-align: middle;\n",
       "    }\n",
       "\n",
       "    .dataframe tbody tr th {\n",
       "        vertical-align: top;\n",
       "    }\n",
       "\n",
       "    .dataframe thead th {\n",
       "        text-align: right;\n",
       "    }\n",
       "</style>\n",
       "<table border=\"1\" class=\"dataframe\">\n",
       "  <thead>\n",
       "    <tr style=\"text-align: right;\">\n",
       "      <th></th>\n",
       "      <th>Date</th>\n",
       "      <th>Profit/Losses</th>\n",
       "    </tr>\n",
       "  </thead>\n",
       "  <tbody>\n",
       "    <tr>\n",
       "      <th>0</th>\n",
       "      <td>Jan-2010</td>\n",
       "      <td>867884</td>\n",
       "    </tr>\n",
       "    <tr>\n",
       "      <th>1</th>\n",
       "      <td>Feb-2010</td>\n",
       "      <td>984655</td>\n",
       "    </tr>\n",
       "    <tr>\n",
       "      <th>2</th>\n",
       "      <td>Mar-2010</td>\n",
       "      <td>322013</td>\n",
       "    </tr>\n",
       "    <tr>\n",
       "      <th>3</th>\n",
       "      <td>Apr-2010</td>\n",
       "      <td>-69417</td>\n",
       "    </tr>\n",
       "    <tr>\n",
       "      <th>4</th>\n",
       "      <td>May-2010</td>\n",
       "      <td>310503</td>\n",
       "    </tr>\n",
       "  </tbody>\n",
       "</table>\n",
       "</div>"
      ],
      "text/plain": [
       "       Date  Profit/Losses\n",
       "0  Jan-2010         867884\n",
       "1  Feb-2010         984655\n",
       "2  Mar-2010         322013\n",
       "3  Apr-2010         -69417\n",
       "4  May-2010         310503"
      ]
     },
     "execution_count": 5,
     "metadata": {},
     "output_type": "execute_result"
    }
   ],
   "source": [
    "# Read the CSV into a DataFrame using Pandas\n",
    "pybank_df = pd.read_csv(filepath)\n",
    "pybank_df.head()"
   ]
  },
  {
   "cell_type": "code",
   "execution_count": 6,
   "id": "b6b20614",
   "metadata": {},
   "outputs": [
    {
     "data": {
      "text/plain": [
       "Index(['Date', 'Profit/Losses'], dtype='object')"
      ]
     },
     "execution_count": 6,
     "metadata": {},
     "output_type": "execute_result"
    }
   ],
   "source": [
    "# Read Columns\n",
    "pybank_df.columns"
   ]
  },
  {
   "cell_type": "code",
   "execution_count": 7,
   "id": "68b8883e",
   "metadata": {},
   "outputs": [
    {
     "data": {
      "text/plain": [
       "86"
      ]
     },
     "execution_count": 7,
     "metadata": {},
     "output_type": "execute_result"
    }
   ],
   "source": [
    "# Find the total number of months\n",
    "total_months = len(pybank_df)\n",
    "total_months"
   ]
  },
  {
   "cell_type": "code",
   "execution_count": 8,
   "id": "0e634d54",
   "metadata": {},
   "outputs": [
    {
     "data": {
      "text/plain": [
       "38382578"
      ]
     },
     "execution_count": 8,
     "metadata": {},
     "output_type": "execute_result"
    }
   ],
   "source": [
    "# Find the sum of profits and losses\n",
    "total_profits_losses = pybank_df['Profit/Losses'].sum() \n",
    "total_profits_losses"
   ]
  },
  {
   "cell_type": "code",
   "execution_count": 10,
   "id": "89c311c9",
   "metadata": {},
   "outputs": [
    {
     "data": {
      "text/plain": [
       "-2315.12"
      ]
     },
     "execution_count": 10,
     "metadata": {},
     "output_type": "execute_result"
    }
   ],
   "source": [
    "#initialize a list for average change\n",
    "average_change = []\n",
    "\n",
    "# Loop over every item to determine difference between each date\n",
    "for item in range(1,len(pybank_df)):\n",
    "    average_change.append(pybank_df['Profit/Losses'][item] - pybank_df['Profit/Losses'][item-1])\n",
    "\n",
    "# Calculate the average change of profits and losses\n",
    "average_profits_losses = round(sum(average_change)/len(average_change), 2)\n",
    "average_profits_losses"
   ]
  },
  {
   "cell_type": "code",
   "execution_count": 11,
   "id": "66233287",
   "metadata": {},
   "outputs": [
    {
     "data": {
      "text/plain": [
       "1926159"
      ]
     },
     "execution_count": 11,
     "metadata": {},
     "output_type": "execute_result"
    }
   ],
   "source": [
    "#greatest increase\n",
    "greatest_increase = max(average_change)\n",
    "greatest_increase"
   ]
  },
  {
   "cell_type": "code",
   "execution_count": 15,
   "id": "b4ce0b46",
   "metadata": {},
   "outputs": [
    {
     "data": {
      "text/plain": [
       "'Feb-2012'"
      ]
     },
     "execution_count": 15,
     "metadata": {},
     "output_type": "execute_result"
    }
   ],
   "source": [
    "# date of increase\n",
    "greatest_increase_date = str(pybank_df['Date'][average_change.index(max(average_change))+1])\n",
    "greatest_increase_date"
   ]
  },
  {
   "cell_type": "code",
   "execution_count": 21,
   "id": "62d1d06b",
   "metadata": {},
   "outputs": [
    {
     "data": {
      "text/plain": [
       "'Feb-2012 $1926159'"
      ]
     },
     "execution_count": 21,
     "metadata": {},
     "output_type": "execute_result"
    }
   ],
   "source": [
    "# Greatest increase in profits (date and amount)\n",
    "greatest_increase = max(average_change)\n",
    "greatest_increase_date = str(pybank_df['Date'][average_change.index(max(average_change))+1])\n",
    "greatest_increase_profits = f\"{greatest_increase_date} ${greatest_increase}\"\n",
    "greatest_increase_profits"
   ]
  },
  {
   "cell_type": "code",
   "execution_count": 22,
   "id": "bde5790b-47e8-4254-ba1a-f4030b0b4c72",
   "metadata": {},
   "outputs": [
    {
     "data": {
      "text/plain": [
       "-2196167"
      ]
     },
     "execution_count": 22,
     "metadata": {},
     "output_type": "execute_result"
    }
   ],
   "source": [
    "#greatest decrease\n",
    "greatest_decrease = min(average_change)\n",
    "greatest_decrease"
   ]
  },
  {
   "cell_type": "code",
   "execution_count": 23,
   "id": "98eb52da-2419-42be-996f-bcc6afa97db0",
   "metadata": {},
   "outputs": [
    {
     "data": {
      "text/plain": [
       "'Sep-2013'"
      ]
     },
     "execution_count": 23,
     "metadata": {},
     "output_type": "execute_result"
    }
   ],
   "source": [
    "# date of greatest decrease\n",
    "greatest_decrease_date = str(pybank_df['Date'][average_change.index(min(average_change))+1])\n",
    "greatest_decrease_date"
   ]
  },
  {
   "cell_type": "code",
   "execution_count": 24,
   "id": "87aff014",
   "metadata": {},
   "outputs": [
    {
     "data": {
      "text/plain": [
       "'Sep-2013 $-2196167'"
      ]
     },
     "execution_count": 24,
     "metadata": {},
     "output_type": "execute_result"
    }
   ],
   "source": [
    "# Greatest decrease in profits (date and amount)\n",
    "greatest_decrease = min(average_change)\n",
    "greatest_decrease_date = str(pybank_df['Date'][average_change.index(min(average_change))+1])\n",
    "greatest_decrease_profits = f\"{greatest_decrease_date} ${greatest_decrease}\"\n",
    "greatest_decrease_profits"
   ]
  },
  {
   "cell_type": "code",
   "execution_count": 18,
   "id": "dbc6c639",
   "metadata": {},
   "outputs": [
    {
     "data": {
      "text/html": [
       "<div>\n",
       "<style scoped>\n",
       "    .dataframe tbody tr th:only-of-type {\n",
       "        vertical-align: middle;\n",
       "    }\n",
       "\n",
       "    .dataframe tbody tr th {\n",
       "        vertical-align: top;\n",
       "    }\n",
       "\n",
       "    .dataframe thead th {\n",
       "        text-align: right;\n",
       "    }\n",
       "</style>\n",
       "<table border=\"1\" class=\"dataframe\">\n",
       "  <thead>\n",
       "    <tr style=\"text-align: right;\">\n",
       "      <th></th>\n",
       "      <th>Date</th>\n",
       "      <th>Profit/Losses</th>\n",
       "    </tr>\n",
       "  </thead>\n",
       "  <tbody>\n",
       "    <tr>\n",
       "      <th>25</th>\n",
       "      <td>Feb-2012</td>\n",
       "      <td>1170593</td>\n",
       "    </tr>\n",
       "  </tbody>\n",
       "</table>\n",
       "</div>"
      ],
      "text/plain": [
       "        Date  Profit/Losses\n",
       "25  Feb-2012        1170593"
      ]
     },
     "execution_count": 18,
     "metadata": {},
     "output_type": "execute_result"
    }
   ],
   "source": [
    "pybank_df.nlargest(1, ['Profit/Losses'])"
   ]
  },
  {
   "cell_type": "markdown",
   "id": "0f13e7f7",
   "metadata": {},
   "source": [
    "pybank_df.nsmallest(1, ['Profit/Losses'])"
   ]
  },
  {
   "cell_type": "code",
   "execution_count": 25,
   "id": "990f7eee-7604-4355-a756-e63afc7c6605",
   "metadata": {},
   "outputs": [
    {
     "data": {
      "text/html": [
       "<div>\n",
       "<style scoped>\n",
       "    .dataframe tbody tr th:only-of-type {\n",
       "        vertical-align: middle;\n",
       "    }\n",
       "\n",
       "    .dataframe tbody tr th {\n",
       "        vertical-align: top;\n",
       "    }\n",
       "\n",
       "    .dataframe thead th {\n",
       "        text-align: right;\n",
       "    }\n",
       "</style>\n",
       "<table border=\"1\" class=\"dataframe\">\n",
       "  <thead>\n",
       "    <tr style=\"text-align: right;\">\n",
       "      <th></th>\n",
       "      <th>Date</th>\n",
       "      <th>Profit/Losses</th>\n",
       "    </tr>\n",
       "  </thead>\n",
       "  <tbody>\n",
       "    <tr>\n",
       "      <th>44</th>\n",
       "      <td>Sep-2013</td>\n",
       "      <td>-1196225</td>\n",
       "    </tr>\n",
       "  </tbody>\n",
       "</table>\n",
       "</div>"
      ],
      "text/plain": [
       "        Date  Profit/Losses\n",
       "44  Sep-2013       -1196225"
      ]
     },
     "execution_count": 25,
     "metadata": {},
     "output_type": "execute_result"
    }
   ],
   "source": [
    "pybank_df.nsmallest(1, ['Profit/Losses'])"
   ]
  },
  {
   "cell_type": "code",
   "execution_count": 26,
   "id": "3a092c9f-fa1a-4a4f-a43d-bf32c1fe02c4",
   "metadata": {},
   "outputs": [
    {
     "name": "stdout",
     "output_type": "stream",
     "text": [
      "Financial Analysis\n",
      "_____________________________\n",
      "Total Months: 86\n",
      "Total: $38382578\n",
      "Average Change: $-2315.12\n",
      "Greatest Increase in Profits: Feb-2012 $1926159\n",
      "Greatest Decrease in Profits: Sep-2013 $-2196167\n"
     ]
    }
   ],
   "source": [
    "# Print the analysis\n",
    "print('Financial Analysis')\n",
    "print('_____________________________')\n",
    "print(f\"Total Months: {total_months}\")\n",
    "print(f\"Total: ${total_profits_losses}\")\n",
    "print(f\"Average Change: ${average_profits_losses}\")\n",
    "print(f\"Greatest Increase in Profits: {greatest_increase_profits}\")\n",
    "print(f\"Greatest Decrease in Profits: {greatest_decrease_profits}\")"
   ]
  },
  {
   "cell_type": "code",
   "execution_count": null,
   "id": "3f5fff06-8b80-4cad-8eda-834a671b2c36",
   "metadata": {},
   "outputs": [],
   "source": []
  }
 ],
 "metadata": {
  "interpreter": {
   "hash": "7f0626b54536aa544c2c8dd43ed749957c16be6f7fed118917640ae8dc24df94"
  },
  "kernelspec": {
   "display_name": "Python 3.8 (FinTech)",
   "language": "python",
   "name": "fintech"
  },
  "language_info": {
   "codemirror_mode": {
    "name": "ipython",
    "version": 3
   },
   "file_extension": ".py",
   "mimetype": "text/x-python",
   "name": "python",
   "nbconvert_exporter": "python",
   "pygments_lexer": "ipython3",
   "version": "3.8.2"
  }
 },
 "nbformat": 4,
 "nbformat_minor": 5
}
