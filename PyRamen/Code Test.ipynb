{
 "cells": [
  {
   "cell_type": "code",
   "execution_count": 1,
   "id": "735aa90b-1411-4ae2-82ea-5760260c0946",
   "metadata": {},
   "outputs": [],
   "source": [
    "# Initial imports (numpy, pathlib, csv, and pandas)\n",
    "import numpy_financial as npf\n",
    "from pathlib import Path\n",
    "import csv\n",
    "import pandas as pd"
   ]
  },
  {
   "cell_type": "code",
   "execution_count": 2,
   "id": "0924d33a-a181-411d-abbd-a47814c62f2e",
   "metadata": {},
   "outputs": [
    {
     "name": "stdout",
     "output_type": "stream",
     "text": [
      "/Users/moniqueferguson/Desktop/Miami/FinTech/MiamiHomework/Python_Homework/PyRamen\n"
     ]
    }
   ],
   "source": [
    "# Check the current directory\n",
    "print(Path.cwd())\n"
   ]
  },
  {
   "cell_type": "code",
   "execution_count": 3,
   "id": "52509401-dd50-4383-afd1-b35534d83d3b",
   "metadata": {},
   "outputs": [],
   "source": [
    "# Set the input file\n",
    "filepath_menu = Path(\"Resources/menu_data.csv\")\n",
    "filepath_sales = Path(\"Resources/sales_data.csv\")"
   ]
  },
  {
   "cell_type": "code",
   "execution_count": 4,
   "id": "53e2ec46-48ea-46ae-b617-7f50d7508052",
   "metadata": {},
   "outputs": [],
   "source": [
    "#Initialize list objects for menu and sales data\n",
    "menu = []\n",
    "sales = []"
   ]
  },
  {
   "cell_type": "code",
   "execution_count": 5,
   "id": "13b59ac4-b016-49fe-a89e-b8dd6562fc52",
   "metadata": {},
   "outputs": [
    {
     "data": {
      "text/html": [
       "<div>\n",
       "<style scoped>\n",
       "    .dataframe tbody tr th:only-of-type {\n",
       "        vertical-align: middle;\n",
       "    }\n",
       "\n",
       "    .dataframe tbody tr th {\n",
       "        vertical-align: top;\n",
       "    }\n",
       "\n",
       "    .dataframe thead th {\n",
       "        text-align: right;\n",
       "    }\n",
       "</style>\n",
       "<table border=\"1\" class=\"dataframe\">\n",
       "  <thead>\n",
       "    <tr style=\"text-align: right;\">\n",
       "      <th></th>\n",
       "      <th>item</th>\n",
       "      <th>category</th>\n",
       "      <th>description</th>\n",
       "      <th>price</th>\n",
       "      <th>cost</th>\n",
       "    </tr>\n",
       "  </thead>\n",
       "  <tbody>\n",
       "    <tr>\n",
       "      <th>0</th>\n",
       "      <td>edamame</td>\n",
       "      <td>appetizers</td>\n",
       "      <td>boiled soybeans, maldon sea salt</td>\n",
       "      <td>4.0</td>\n",
       "      <td>1</td>\n",
       "    </tr>\n",
       "    <tr>\n",
       "      <th>1</th>\n",
       "      <td>house salad</td>\n",
       "      <td>appetizers</td>\n",
       "      <td>mixed greens, cherry tomatoes, cucumber, house...</td>\n",
       "      <td>4.0</td>\n",
       "      <td>2</td>\n",
       "    </tr>\n",
       "    <tr>\n",
       "      <th>2</th>\n",
       "      <td>cucumber sunomono salad</td>\n",
       "      <td>appetizers</td>\n",
       "      <td>cucumber, ponzu dressing, pickled ginger sprou...</td>\n",
       "      <td>5.0</td>\n",
       "      <td>2</td>\n",
       "    </tr>\n",
       "    <tr>\n",
       "      <th>3</th>\n",
       "      <td>hiyashi wakame seaweed salad</td>\n",
       "      <td>appetizers</td>\n",
       "      <td>sweet soy-marinated wakame seaweed threads, pi...</td>\n",
       "      <td>5.0</td>\n",
       "      <td>2</td>\n",
       "    </tr>\n",
       "    <tr>\n",
       "      <th>4</th>\n",
       "      <td>agedashi tofu</td>\n",
       "      <td>appetizers</td>\n",
       "      <td>tempura battered tofu, katsuobushi, tsuyu brot...</td>\n",
       "      <td>5.0</td>\n",
       "      <td>2</td>\n",
       "    </tr>\n",
       "  </tbody>\n",
       "</table>\n",
       "</div>"
      ],
      "text/plain": [
       "                           item    category  \\\n",
       "0                       edamame  appetizers   \n",
       "1                   house salad  appetizers   \n",
       "2       cucumber sunomono salad  appetizers   \n",
       "3  hiyashi wakame seaweed salad  appetizers   \n",
       "4                 agedashi tofu  appetizers   \n",
       "\n",
       "                                         description  price  cost  \n",
       "0                   boiled soybeans, maldon sea salt    4.0     1  \n",
       "1  mixed greens, cherry tomatoes, cucumber, house...    4.0     2  \n",
       "2  cucumber, ponzu dressing, pickled ginger sprou...    5.0     2  \n",
       "3  sweet soy-marinated wakame seaweed threads, pi...    5.0     2  \n",
       "4  tempura battered tofu, katsuobushi, tsuyu brot...    5.0     2  "
      ]
     },
     "execution_count": 5,
     "metadata": {},
     "output_type": "execute_result"
    }
   ],
   "source": [
    "# Read the CSV into a DataFrame using Pandas\n",
    "menu_df = pd.read_csv(filepath_menu)\n",
    "menu_df.head()"
   ]
  },
  {
   "cell_type": "code",
   "execution_count": 6,
   "id": "54597b37-cf28-4783-8547-3fe00cdfe11d",
   "metadata": {},
   "outputs": [
    {
     "data": {
      "text/plain": [
       "Index(['item', 'category', 'description', 'price', 'cost'], dtype='object')"
      ]
     },
     "execution_count": 6,
     "metadata": {},
     "output_type": "execute_result"
    }
   ],
   "source": [
    "# Read Columns\n",
    "menu_df.columns"
   ]
  },
  {
   "cell_type": "code",
   "execution_count": 7,
   "id": "e437edb4-d1d9-4b0d-af16-69ace1748a70",
   "metadata": {},
   "outputs": [],
   "source": [
    "# Read menu data into the menu list\n",
    "with open(filepath_menu, 'r') as menufile:\n",
    "    menu_reader = csv.reader(menufile, delimiter = ',')\n",
    "    \n",
    "# Next function used to skip header\n",
    "    header = next(menu_reader)\n",
    "        \n",
    "#Menu list appended\n",
    "    for row in menu_reader:\n",
    "        menu.append(row)"
   ]
  },
  {
   "cell_type": "code",
   "execution_count": 8,
   "id": "2eaeb4fc-dcc0-4728-bd01-277df7a79c94",
   "metadata": {
    "tags": []
   },
   "outputs": [
    {
     "data": {
      "text/html": [
       "<div>\n",
       "<style scoped>\n",
       "    .dataframe tbody tr th:only-of-type {\n",
       "        vertical-align: middle;\n",
       "    }\n",
       "\n",
       "    .dataframe tbody tr th {\n",
       "        vertical-align: top;\n",
       "    }\n",
       "\n",
       "    .dataframe thead th {\n",
       "        text-align: right;\n",
       "    }\n",
       "</style>\n",
       "<table border=\"1\" class=\"dataframe\">\n",
       "  <thead>\n",
       "    <tr style=\"text-align: right;\">\n",
       "      <th></th>\n",
       "      <th>Line_Item_ID</th>\n",
       "      <th>Date</th>\n",
       "      <th>Credit_Card_Number</th>\n",
       "      <th>Quantity</th>\n",
       "      <th>Menu_Item</th>\n",
       "    </tr>\n",
       "  </thead>\n",
       "  <tbody>\n",
       "    <tr>\n",
       "      <th>0</th>\n",
       "      <td>1</td>\n",
       "      <td>01-01-2017</td>\n",
       "      <td>7437926611570799</td>\n",
       "      <td>1</td>\n",
       "      <td>spicy miso ramen</td>\n",
       "    </tr>\n",
       "    <tr>\n",
       "      <th>1</th>\n",
       "      <td>2</td>\n",
       "      <td>01-01-2017</td>\n",
       "      <td>7437926611570799</td>\n",
       "      <td>1</td>\n",
       "      <td>spicy miso ramen</td>\n",
       "    </tr>\n",
       "    <tr>\n",
       "      <th>2</th>\n",
       "      <td>3</td>\n",
       "      <td>01-01-2017</td>\n",
       "      <td>8421920068932819</td>\n",
       "      <td>3</td>\n",
       "      <td>tori paitan ramen</td>\n",
       "    </tr>\n",
       "    <tr>\n",
       "      <th>3</th>\n",
       "      <td>4</td>\n",
       "      <td>01-01-2017</td>\n",
       "      <td>8421920068932819</td>\n",
       "      <td>3</td>\n",
       "      <td>tori paitan ramen</td>\n",
       "    </tr>\n",
       "    <tr>\n",
       "      <th>4</th>\n",
       "      <td>5</td>\n",
       "      <td>01-01-2017</td>\n",
       "      <td>4787310681569648</td>\n",
       "      <td>1</td>\n",
       "      <td>truffle butter ramen</td>\n",
       "    </tr>\n",
       "  </tbody>\n",
       "</table>\n",
       "</div>"
      ],
      "text/plain": [
       "   Line_Item_ID        Date  Credit_Card_Number  Quantity  \\\n",
       "0             1  01-01-2017    7437926611570799         1   \n",
       "1             2  01-01-2017    7437926611570799         1   \n",
       "2             3  01-01-2017    8421920068932819         3   \n",
       "3             4  01-01-2017    8421920068932819         3   \n",
       "4             5  01-01-2017    4787310681569648         1   \n",
       "\n",
       "              Menu_Item  \n",
       "0      spicy miso ramen  \n",
       "1      spicy miso ramen  \n",
       "2     tori paitan ramen  \n",
       "3     tori paitan ramen  \n",
       "4  truffle butter ramen  "
      ]
     },
     "execution_count": 8,
     "metadata": {},
     "output_type": "execute_result"
    }
   ],
   "source": [
    "# Read the CSV into a DataFrame using Pandas\n",
    "sales_df = pd.read_csv(filepath_sales)\n",
    "sales_df.head()"
   ]
  },
  {
   "cell_type": "code",
   "execution_count": 9,
   "id": "5eb4a492-3c8c-4d35-811a-9999d97bbd66",
   "metadata": {},
   "outputs": [
    {
     "data": {
      "text/plain": [
       "Index(['Line_Item_ID', 'Date', 'Credit_Card_Number', 'Quantity', 'Menu_Item'], dtype='object')"
      ]
     },
     "execution_count": 9,
     "metadata": {},
     "output_type": "execute_result"
    }
   ],
   "source": [
    "sales_df.columns"
   ]
  },
  {
   "cell_type": "code",
   "execution_count": 10,
   "id": "d358feb6-4fdc-434e-bb53-c1caecb01bd4",
   "metadata": {},
   "outputs": [],
   "source": [
    "# Read sales data into the sales list\n",
    "with open(filepath_sales, 'r') as salesfile:\n",
    "    sales_reader = csv.reader(salesfile, delimiter = ',')\n",
    "    \n",
    "# Next function used to skip header\n",
    "    header = next(sales_reader)\n",
    "    \n",
    "#Sales list appended\n",
    "    for row in sales_reader:\n",
    "        sales.append(row)"
   ]
  },
  {
   "cell_type": "code",
   "execution_count": 11,
   "id": "892d2ade-1b76-483f-9d35-ad4a11ff3a83",
   "metadata": {},
   "outputs": [],
   "source": [
    "# Initialize empty report dictionary\n",
    "report = {}"
   ]
  },
  {
   "cell_type": "code",
   "execution_count": 12,
   "id": "30a65c75-3900-4393-9e0e-35241efa0652",
   "metadata": {},
   "outputs": [
    {
     "name": "stdout",
     "output_type": "stream",
     "text": [
      "{'spicy miso ramen': {'01-count': 0, '02-revenue': 0, '03-cogs': 0, '04-profit': 0}, 'tori paitan ramen': {'01-count': 0, '02-revenue': 0, '03-cogs': 0, '04-profit': 0}, 'truffle butter ramen': {'01-count': 0, '02-revenue': 0, '03-cogs': 0, '04-profit': 0}, 'tonkotsu ramen': {'01-count': 0, '02-revenue': 0, '03-cogs': 0, '04-profit': 0}, 'vegetarian spicy miso': {'01-count': 0, '02-revenue': 0, '03-cogs': 0, '04-profit': 0}, 'shio ramen': {'01-count': 0, '02-revenue': 0, '03-cogs': 0, '04-profit': 0}, 'miso crab ramen': {'01-count': 0, '02-revenue': 0, '03-cogs': 0, '04-profit': 0}, 'nagomi shoyu': {'01-count': 0, '02-revenue': 0, '03-cogs': 0, '04-profit': 0}, 'soft-shell miso crab ramen': {'01-count': 0, '02-revenue': 0, '03-cogs': 0, '04-profit': 0}, 'burnt garlic tonkotsu ramen': {'01-count': 0, '02-revenue': 0, '03-cogs': 0, '04-profit': 0}, 'vegetarian curry + king trumpet mushroom ramen': {'01-count': 0, '02-revenue': 0, '03-cogs': 0, '04-profit': 0}}\n"
     ]
    }
   ],
   "source": [
    "# Loop over every row in the sales list\n",
    "for item in sales:\n",
    "    sales_item = item[4] \n",
    "    quantity = item[3]\n",
    "\n",
    "    if sales_item not in report:\n",
    "        report[sales_item] = {\n",
    "            \"01-count\": 0, \n",
    "            \"02-revenue\": 0, \n",
    "            \"03-cogs\": 0, \n",
    "            \"04-profit\": 0\n",
    "        }\n",
    "    else:\n",
    "        continue \n",
    "\n",
    "print(report)"
   ]
  },
  {
   "cell_type": "code",
   "execution_count": 13,
   "id": "5979be67-ead6-4213-8b96-35044e946ea3",
   "metadata": {},
   "outputs": [],
   "source": [
    "# Calculate count, revenue, cogs, and profit\n",
    "for item in sales:\n",
    "    sales_item = item[4]\n",
    "    quantity = item[3]\n",
    "    \n",
    "    for menu_row in menu:\n",
    "        menu_item = menu_row[0]\n",
    "        menu_price = menu_row[3]\n",
    "        menu_cost = menu_row[4]\n",
    "        \n",
    "        if sales_item == menu_item:\n",
    "            report[menu_item][\"01-count\"] += int(quantity)\n",
    "            report[menu_item][\"02-revenue\"] += (int(menu_price) * int(quantity))\n",
    "            report[menu_item][\"03-cogs\"] += (int(menu_cost) * int(quantity))\n",
    "            report[menu_item][\"04-profit\"] += ((int(menu_price)- int(menu_cost)) * int(quantity))\n",
    "        else:\n",
    "            sales_item != menu_item\n",
    "            continue\n"
   ]
  },
  {
   "cell_type": "code",
   "execution_count": 14,
   "id": "25191b87-296c-4f47-9953-f491fd88721e",
   "metadata": {},
   "outputs": [
    {
     "name": "stdout",
     "output_type": "stream",
     "text": [
      "spicy miso ramen {'01-count': 9238, '02-revenue': 110856, '03-cogs': 46190, '04-profit': 64666}\n",
      "tori paitan ramen {'01-count': 9156, '02-revenue': 119028, '03-cogs': 54936, '04-profit': 64092}\n",
      "truffle butter ramen {'01-count': 8982, '02-revenue': 125748, '03-cogs': 62874, '04-profit': 62874}\n",
      "tonkotsu ramen {'01-count': 9288, '02-revenue': 120744, '03-cogs': 55728, '04-profit': 65016}\n",
      "vegetarian spicy miso {'01-count': 9216, '02-revenue': 110592, '03-cogs': 46080, '04-profit': 64512}\n",
      "shio ramen {'01-count': 9180, '02-revenue': 100980, '03-cogs': 45900, '04-profit': 55080}\n",
      "miso crab ramen {'01-count': 8890, '02-revenue': 106680, '03-cogs': 53340, '04-profit': 53340}\n",
      "nagomi shoyu {'01-count': 9132, '02-revenue': 100452, '03-cogs': 45660, '04-profit': 54792}\n",
      "soft-shell miso crab ramen {'01-count': 9130, '02-revenue': 127820, '03-cogs': 63910, '04-profit': 63910}\n",
      "burnt garlic tonkotsu ramen {'01-count': 9070, '02-revenue': 126980, '03-cogs': 54420, '04-profit': 72560}\n",
      "vegetarian curry + king trumpet mushroom ramen {'01-count': 8824, '02-revenue': 114712, '03-cogs': 61768, '04-profit': 52944}\n"
     ]
    }
   ],
   "source": [
    "for key, value in report.items():\n",
    "    print(key, value)"
   ]
  },
  {
   "cell_type": "code",
   "execution_count": null,
   "id": "52c5f2fa-ab0e-4c93-8adf-eb7acdeb7d60",
   "metadata": {},
   "outputs": [],
   "source": []
  }
 ],
 "metadata": {
  "kernelspec": {
   "display_name": "Python 3.8 (FinTech)",
   "language": "python",
   "name": "fintech"
  },
  "language_info": {
   "codemirror_mode": {
    "name": "ipython",
    "version": 3
   },
   "file_extension": ".py",
   "mimetype": "text/x-python",
   "name": "python",
   "nbconvert_exporter": "python",
   "pygments_lexer": "ipython3",
   "version": "3.8.2"
  }
 },
 "nbformat": 4,
 "nbformat_minor": 5
}
