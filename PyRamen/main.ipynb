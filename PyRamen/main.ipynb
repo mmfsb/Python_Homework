{
 "cells": [
  {
   "cell_type": "code",
   "execution_count": null,
   "id": "94fa3456-05b9-4d2e-a64b-18ee95208de7",
   "metadata": {},
   "outputs": [],
   "source": [
    "# For PyRamen Assignment [OPTIONAL], complete the following:\n",
    "# 1. Read the Data\n",
    "#    - Read in menu_data.csv\n",
    "#    - Initialize an empty menu list object\n",
    "#    - Use a with statement and open the menu_data.csv\n",
    "#    - Use the reader function from the csv library to begin reading menu_data.csv.\n",
    "#    - Use the next function to skip the header (first row of the CSV).\n",
    "#    - Loop over the rest of the rows and append every row to the menu list object\n",
    "#    - Repeat process for sales_csv\n",
    "# 2. Manipulate the Data\n",
    "#    - Initialize an empty report dictionary\n",
    "#    - Loop through every row in the sales list object.\n",
    "#    - For each row of the sales data, set the columns of the sales data to their own variables\n",
    "#    - Create a nested loop by looping through every record in menu.\n",
    "#    - For each row of menu data, set the columns of the menu data to their own variables\n",
    "#    - If the sales_item in sales is equal to the item in menu, capture the quantity from \n",
    "#    the sales data and the price and cost from the menu data to calculate the profit for each item.\n",
    "#    - Write out the contents of the report dictionary to a text file.\n",
    "\n",
    "# Initial imports (numpy, pathlib, csv, and pandas)\n",
    "import numpy_financial as npf\n",
    "from pathlib import Path\n",
    "import csv\n",
    "import pandas as pd\n",
    "\n",
    "# Check the current directory\n",
    "print(Path.cwd())\n",
    "\n",
    "# Check the current directory\n",
    "print(Path.cwd())"
   ]
  },
  {
   "cell_type": "code",
   "execution_count": null,
   "id": "bd1e88da-5d66-40a9-931b-bdae6e33f4ac",
   "metadata": {},
   "outputs": [],
   "source": [
    "# Set the input file\n",
    "filepath_menu = Path(\"Resources/menu_data.csv\")\n",
    "filepath_sales = Path(\"Resources/sales_data.csv\")"
   ]
  }
 ],
 "metadata": {
  "kernelspec": {
   "display_name": "Python 3.8 (FinTech)",
   "language": "python",
   "name": "fintech"
  },
  "language_info": {
   "codemirror_mode": {
    "name": "ipython",
    "version": 3
   },
   "file_extension": ".py",
   "mimetype": "text/x-python",
   "name": "python",
   "nbconvert_exporter": "python",
   "pygments_lexer": "ipython3",
   "version": "3.8.2"
  }
 },
 "nbformat": 4,
 "nbformat_minor": 5
}
